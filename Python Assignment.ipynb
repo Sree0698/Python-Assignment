{
 "cells": [
  {
   "cell_type": "markdown",
   "id": "6e631e10",
   "metadata": {},
   "source": [
    "# ASSIGNMENT"
   ]
  },
  {
   "cell_type": "code",
   "execution_count": null,
   "id": "35d66643",
   "metadata": {},
   "outputs": [],
   "source": []
  },
  {
   "cell_type": "markdown",
   "id": "ede2a2e4",
   "metadata": {},
   "source": [
    "1. Check if the given string is a palindrome or not irrespective of case"
   ]
  },
  {
   "cell_type": "code",
   "execution_count": 2,
   "id": "c7907c6c",
   "metadata": {},
   "outputs": [
    {
     "name": "stdout",
     "output_type": "stream",
     "text": [
      "Please enter a string: stats\n",
      "stats is a palindrome\n"
     ]
    }
   ],
   "source": [
    "word = input(\"Please enter a string: \").lower()\n",
    " \n",
    "if list(word) == list(reversed(word)):\n",
    "    print(\"{} is a palindrome\".format(word))\n",
    "else:\n",
    "    print(\"{} is NOT a palindrome\".format(word))"
   ]
  },
  {
   "cell_type": "code",
   "execution_count": null,
   "id": "040fb00e",
   "metadata": {},
   "outputs": [],
   "source": []
  },
  {
   "cell_type": "markdown",
   "id": "02bb772e",
   "metadata": {},
   "source": [
    "2. Print the number of times that a substring occurs in the given string."
   ]
  },
  {
   "cell_type": "code",
   "execution_count": 3,
   "id": "20465e85",
   "metadata": {},
   "outputs": [
    {
     "name": "stdout",
     "output_type": "stream",
     "text": [
      "Please enter a string: accessories\n",
      "Please enter the pattern to be checked: es\n",
      "The number of times your pattern appears in the word is:  2\n"
     ]
    }
   ],
   "source": [
    "word = input(\"Please enter a string: \")\n",
    "pattern = input(\"Please enter the pattern to be checked: \")\n",
    "print(\"The number of times your pattern appears in the word is: \",word.count(pattern))"
   ]
  },
  {
   "cell_type": "code",
   "execution_count": null,
   "id": "2aea6706",
   "metadata": {},
   "outputs": [],
   "source": []
  },
  {
   "cell_type": "markdown",
   "id": "921cbd35",
   "metadata": {},
   "source": [
    "3. Create a basic rock paper scissors game."
   ]
  },
  {
   "cell_type": "code",
   "execution_count": 4,
   "id": "9b8af6aa",
   "metadata": {},
   "outputs": [
    {
     "name": "stdout",
     "output_type": "stream",
     "text": [
      "Enter a choice (rock, paper, scissors): rock\n",
      "\n",
      "You chose rock, computer chose scissors.\n",
      "\n",
      "Rock smashes scissors! You win!\n",
      "Play again? (y/n): n\n"
     ]
    }
   ],
   "source": [
    "import random\n",
    "\n",
    "while True:\n",
    "\n",
    "    user_choice = input(\"Enter a choice (rock, paper, scissors): \")\n",
    "\n",
    "    options = [\"rock\", \"paper\", \"scissors\"]\n",
    "    computer_choice = random.choice(options)\n",
    "\n",
    "    print(f\"\\nYou chose {user_choice}, computer chose {computer_choice}.\\n\")\n",
    "\n",
    "    if user_choice == computer_choice:\n",
    "        print(f\"Both players selected {user_choice}. TIE!!!\")\n",
    "    elif user_choice == 'rock':\n",
    "        if computer_choice == \"scissors\":\n",
    "            print(\"Rock smashes scissors! You win!\")\n",
    "        else:\n",
    "            print(\"Paper covers rock! You lose.\")\n",
    "    elif user_choice == \"paper\":\n",
    "        if computer_choice == \"rock\":\n",
    "            print(\"Paper covers rock! You win!\")\n",
    "        else:\n",
    "            print(\"Scissors cuts paper! You lose.\")\n",
    "    elif user_choice == \"scissors\":\n",
    "        if computer_choice == \"paper\":\n",
    "            print(\"Scissors cuts paper! You win!\")\n",
    "        else:\n",
    "            print(\"Rock smashes scissors! You lose.\")\n",
    "    else:\n",
    "        print(\"Your choice doesnt exist, You loose\")\n",
    "\n",
    "    play_again = input(\"Play again? (y/n): \")\n",
    "    if play_again.lower() != \"y\":\n",
    "        break"
   ]
  },
  {
   "cell_type": "code",
   "execution_count": null,
   "id": "a519342d",
   "metadata": {},
   "outputs": [],
   "source": []
  },
  {
   "cell_type": "code",
   "execution_count": null,
   "id": "3844b3b2",
   "metadata": {},
   "outputs": [],
   "source": []
  },
  {
   "cell_type": "code",
   "execution_count": null,
   "id": "d8aab830",
   "metadata": {},
   "outputs": [],
   "source": []
  },
  {
   "cell_type": "code",
   "execution_count": null,
   "id": "bdd8863d",
   "metadata": {},
   "outputs": [],
   "source": []
  }
 ],
 "metadata": {
  "kernelspec": {
   "display_name": "Python 3 (ipykernel)",
   "language": "python",
   "name": "python3"
  },
  "language_info": {
   "codemirror_mode": {
    "name": "ipython",
    "version": 3
   },
   "file_extension": ".py",
   "mimetype": "text/x-python",
   "name": "python",
   "nbconvert_exporter": "python",
   "pygments_lexer": "ipython3",
   "version": "3.9.12"
  }
 },
 "nbformat": 4,
 "nbformat_minor": 5
}
